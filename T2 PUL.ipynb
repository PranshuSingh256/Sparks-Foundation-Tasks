{
 "cells": [
  {
   "cell_type": "code",
   "execution_count": null,
   "metadata": {},
   "outputs": [],
   "source": [
    "import numpy as np\n",
    "import pandas as pd\n",
    "import matplotlib.pyplot as mpl\n",
    "%matplotlib inline\n",
    "import seaborn as sns\n",
    "from sklearn import datasets\n",
    "from sklearn.cluster import KMeans\n",
    "\n",
    "import warnings as wg\n",
    "wg.filterwarnings(\"ignore\")"
   ]
  },
  {
   "cell_type": "code",
   "execution_count": null,
   "metadata": {},
   "outputs": [],
   "source": [
    "iris = datasets.load_iris()\n",
    "data = pd.DataFrame(iris.data, columns = iris.feature_names)\n",
    "data.head()"
   ]
  },
  {
   "cell_type": "code",
   "execution_count": null,
   "metadata": {},
   "outputs": [],
   "source": [
    "data.info()"
   ]
  },
  {
   "cell_type": "code",
   "execution_count": null,
   "metadata": {},
   "outputs": [],
   "source": [
    "# iris_d = iris.drop(columns= ['Species' ,'Id'] )\n",
    "# iris_d.head()\n",
    "iris_df = data.iloc[:, [0, 1, 2, 3]].values"
   ]
  },
  {
   "cell_type": "code",
   "execution_count": null,
   "metadata": {},
   "outputs": [],
   "source": [
    "# within-cluster sum of squares\n",
    "wcss = []\n",
    "\n",
    "for i in range(1, 15):\n",
    "    kmeans = KMeans(n_clusters=i, init='k-means++', max_iter=300, n_init=10, random_state=0)\n",
    "    kmeans.fit(iris_df)\n",
    "    wcss.append(kmeans.inertia_)"
   ]
  },
  {
   "cell_type": "code",
   "execution_count": null,
   "metadata": {},
   "outputs": [],
   "source": [
    "# mpl.plot(range(1, 15), wcss)\n",
    "mpl.rcParams[\"figure.figsize\"] = [5,3]\n",
    "mpl.plot(range(1, 15), wcss, 'go--', color='green')\n",
    "mpl.title('The elbow method')\n",
    "mpl.xlabel('Number of clusters', size='8')\n",
    "mpl.ylabel('WCSS', size='8') # Within cluster sum of squares\n",
    "mpl.grid()\n",
    "mpl.show()"
   ]
  },
  {
   "cell_type": "code",
   "execution_count": null,
   "metadata": {},
   "outputs": [],
   "source": [
    "model = KMeans(n_clusters = 3, init = 'k-means++', max_iter = 300, n_init = 10, random_state = 0)\n",
    "y_kmeans = model.fit_predict(iris_df)"
   ]
  },
  {
   "cell_type": "code",
   "execution_count": null,
   "metadata": {},
   "outputs": [],
   "source": [
    "mpl.scatter(iris_df[y_kmeans == 0, 0], iris_df[y_kmeans == 0, 1], s=30, c='orange', label='Iris-setosa')\n",
    "mpl.scatter(iris_df[y_kmeans == 1, 0], iris_df[y_kmeans == 1, 1], s=30, c='blue', label='Iris-versicolour')\n",
    "mpl.scatter(iris_df[y_kmeans == 2, 0], iris_df[y_kmeans == 2, 1], s=30, c='green', label='Iris-virginica')\n",
    "\n",
    "mpl.scatter(model.cluster_centers_[:, 0], model.cluster_centers_[:,1], s = 50, c = 'red', label = 'Centroids')\n",
    "#Plotting the centroids of the clusters\n",
    "mpl.grid()\n",
    "mpl.legend()\n",
    "mpl.show()"
   ]
  },
  {
   "cell_type": "code",
   "execution_count": null,
   "metadata": {},
   "outputs": [],
   "source": [
    "fig = mpl.figure(figsize = (7,7))\n",
    "ax = fig.add_subplot(111, projection='3d')\n",
    "mpl.scatter(iris_df[y_kmeans == 0, 0], iris_df[y_kmeans == 0, 1], s=50, c='purple', label='Iris-setosa')\n",
    "mpl.scatter(iris_df[y_kmeans == 1, 0], iris_df[y_kmeans == 1, 1], s=50, c='orange', label='Iris-versicolour')\n",
    "mpl.scatter(iris_df[y_kmeans == 2, 0], iris_df[y_kmeans == 2, 1], s=50, c='green', label='Iris-virginica')\n",
    "\n",
    "#Plotting the centroids of the clusters\n",
    "mpl.scatter(kmeans.cluster_centers_[:, 0], kmeans.cluster_centers_[:,1], s = 100, c = 'red', label = 'Centroids')\n",
    "mpl.show()"
   ]
  },
  {
   "cell_type": "code",
   "execution_count": null,
   "metadata": {},
   "outputs": [],
   "source": [
    "#considering 0 Corresponds to 'Iris-setosa'\n",
    "#1 to 'Iris-versicolour'\n",
    "#2 to 'Iris-virginica'\n",
    "y_kmeans = np.where(y_kmeans=='0', 'Iris-setosa', y_kmeans)\n",
    "y_kmeans = np.where(y_kmeans=='1', 'Iris-versicolour', y_kmeans)\n",
    "y_kmeans = np.where(y_kmeans=='2', 'Iris-virginica', y_kmeans)\n",
    "\n",
    "data_with_clusters = iris_df.copy()\n",
    "data_with_clusters[\"Cluster\"] = y_kmeans\n",
    "print(data_with_clusters.head(5))"
   ]
  },
  {
   "cell_type": "code",
   "execution_count": null,
   "metadata": {},
   "outputs": [],
   "source": [
    "sns.set_style('darkgrid')\n",
    "sns.barplot(x = data_with_clusters[\"Cluster\"] .unique(),\n",
    "            y = data_with_clusters[\"Cluster\"] .value_counts(),\n",
    "            palette=sns.color_palette([\"#e74c3c\", \"#34495e\", \"#2ecc71\"]));"
   ]
  },
  {
   "cell_type": "code",
   "execution_count": null,
   "metadata": {},
   "outputs": [],
   "source": [
    "sns.violinplot(x=\"Cluster\",y=\"petal width (cm)\",data=data_with_clusters)\n",
    "plt.show()\n",
    "sns.violinplot(x=\"Cluster\",y=\"sepal width (cm)\",data=data_with_clusters)\n",
    "plt.show()\n",
    "sns.violinplot(x=\"Cluster\",y=\"petal length (cm)\",data=data_with_clusters)\n",
    "plt.show()\n",
    "sns.violinplot(x=\"Cluster\",y=\"sepal length (cm)\",data=data_with_clusters)\n",
    "plt.show()"
   ]
  },
  {
   "cell_type": "code",
   "execution_count": null,
   "metadata": {},
   "outputs": [],
   "source": []
  }
 ],
 "metadata": {
  "kernelspec": {
   "display_name": "Python 3",
   "language": "python",
   "name": "python3"
  },
  "language_info": {
   "codemirror_mode": {
    "name": "ipython",
    "version": 3
   },
   "file_extension": ".py",
   "mimetype": "text/x-python",
   "name": "python",
   "nbconvert_exporter": "python",
   "pygments_lexer": "ipython3",
   "version": "3.11.2 (tags/v3.11.2:878ead1, Feb  7 2023, 16:38:35) [MSC v.1934 64 bit (AMD64)]"
  },
  "orig_nbformat": 4,
  "vscode": {
   "interpreter": {
    "hash": "ff4b1fca65a764b45acb559e482afe389d289dd599b9f8c5fd12ff5c2ea46a65"
   }
  }
 },
 "nbformat": 4,
 "nbformat_minor": 2
}
